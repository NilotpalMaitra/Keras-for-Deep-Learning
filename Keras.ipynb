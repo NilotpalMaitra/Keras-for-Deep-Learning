{
  "nbformat": 4,
  "nbformat_minor": 0,
  "metadata": {
    "colab": {
      "provenance": [],
      "gpuType": "T4",
      "authorship_tag": "ABX9TyPYiW6ih8QcfJ2qsCU00mY/",
      "include_colab_link": true
    },
    "kernelspec": {
      "name": "python3",
      "display_name": "Python 3"
    },
    "language_info": {
      "name": "python"
    },
    "accelerator": "GPU"
  },
  "cells": [
    {
      "cell_type": "markdown",
      "metadata": {
        "id": "view-in-github",
        "colab_type": "text"
      },
      "source": [
        "<a href=\"https://colab.research.google.com/github/NilotpalMaitra/Keras-for-Deep-Learning/blob/main/Keras.ipynb\" target=\"_parent\"><img src=\"https://colab.research.google.com/assets/colab-badge.svg\" alt=\"Open In Colab\"/></a>"
      ]
    },
    {
      "cell_type": "code",
      "execution_count": 8,
      "metadata": {
        "id": "pkyK3BLsJBp4"
      },
      "outputs": [],
      "source": [
        "from numpy import loadtxt\n",
        "from tensorflow.keras.models import Sequential\n",
        "from tensorflow.keras.layers import Dense\n",
        "import os\n",
        "import sys"
      ]
    },
    {
      "cell_type": "code",
      "source": [
        "path = os.path.join('/content', 'pima-indians-diabetes.data.csv')"
      ],
      "metadata": {
        "id": "XBuoBk6vKTcb"
      },
      "execution_count": 9,
      "outputs": []
    },
    {
      "cell_type": "markdown",
      "source": [],
      "metadata": {
        "id": "O4T8PrrpKTNU"
      }
    },
    {
      "cell_type": "code",
      "source": [
        "# load the dataset\n",
        "dataset = loadtxt('pima-indians-diabetes.data.csv', delimiter=',')\n",
        "# split into input (X) and output (y) variables\n",
        "X = dataset[:,0:8]\n",
        "y = dataset[:,8]"
      ],
      "metadata": {
        "id": "ss5El2C_JRJi"
      },
      "execution_count": 11,
      "outputs": []
    },
    {
      "cell_type": "markdown",
      "source": [
        "Defining Keras model\n",
        "\n",
        "-The model expects rows of data with 8 variables (the input_shape=(8,) argument).\n",
        "\n",
        "-The first hidden layer has 12 nodes and uses the relu activation function.\n",
        "\n",
        "-The second hidden layer has 8 nodes and uses the relu activation function.\n",
        "\n",
        "-The output layer has one node and uses the sigmoid activation function."
      ],
      "metadata": {
        "id": "m4RvWHkeK3Px"
      }
    },
    {
      "cell_type": "code",
      "source": [
        "# define the keras model\n",
        "model = Sequential()\n",
        "model.add(Dense(12, input_shape=(8,), activation='relu'))\n",
        "model.add(Dense(8, activation='relu'))\n",
        "model.add(Dense(1, activation='sigmoid'))"
      ],
      "metadata": {
        "id": "YzZHTrjaK4vM"
      },
      "execution_count": 12,
      "outputs": []
    },
    {
      "cell_type": "markdown",
      "source": [
        "Compiling Keras model\n",
        "\n",
        "- loss is for a binary classification problems"
      ],
      "metadata": {
        "id": "OgkTqosELUj0"
      }
    },
    {
      "cell_type": "code",
      "source": [
        "model.compile(loss='binary_crossentropy', optimizer='adam', metrics=['accuracy'])"
      ],
      "metadata": {
        "id": "kzsqLlVFK6Bn"
      },
      "execution_count": 13,
      "outputs": []
    },
    {
      "cell_type": "markdown",
      "source": [
        "Fitting Keras model\n",
        "\n",
        "-Epoch: One pass through all of the rows in the training dataset.\n",
        "\n",
        "-Batch: One or more samples considered by the model within an epoch before weights are updated"
      ],
      "metadata": {
        "id": "QOdB2-ZQMAGx"
      }
    },
    {
      "cell_type": "code",
      "source": [
        "model.fit(X, y, epochs=150, batch_size=10)"
      ],
      "metadata": {
        "colab": {
          "base_uri": "https://localhost:8080/"
        },
        "id": "rhixaHDfL_CR",
        "outputId": "bfce4d58-23d3-4054-ffc3-369bcdce97e5"
      },
      "execution_count": 14,
      "outputs": [
        {
          "output_type": "stream",
          "name": "stdout",
          "text": [
            "Epoch 1/150\n",
            "77/77 [==============================] - 3s 3ms/step - loss: 23.5121 - accuracy: 0.3698\n",
            "Epoch 2/150\n",
            "77/77 [==============================] - 0s 3ms/step - loss: 2.4091 - accuracy: 0.5885\n",
            "Epoch 3/150\n",
            "77/77 [==============================] - 0s 3ms/step - loss: 1.0827 - accuracy: 0.6419\n",
            "Epoch 4/150\n",
            "77/77 [==============================] - 0s 3ms/step - loss: 0.9344 - accuracy: 0.6068\n",
            "Epoch 5/150\n",
            "77/77 [==============================] - 0s 3ms/step - loss: 0.8258 - accuracy: 0.6159\n",
            "Epoch 6/150\n",
            "77/77 [==============================] - 0s 3ms/step - loss: 0.7818 - accuracy: 0.6341\n",
            "Epoch 7/150\n",
            "77/77 [==============================] - 0s 3ms/step - loss: 0.7512 - accuracy: 0.6263\n",
            "Epoch 8/150\n",
            "77/77 [==============================] - 0s 3ms/step - loss: 0.7322 - accuracy: 0.6471\n",
            "Epoch 9/150\n",
            "77/77 [==============================] - 0s 3ms/step - loss: 0.6914 - accuracy: 0.6693\n",
            "Epoch 10/150\n",
            "77/77 [==============================] - 0s 3ms/step - loss: 0.6873 - accuracy: 0.6641\n",
            "Epoch 11/150\n",
            "77/77 [==============================] - 0s 3ms/step - loss: 0.6534 - accuracy: 0.6693\n",
            "Epoch 12/150\n",
            "77/77 [==============================] - 0s 3ms/step - loss: 0.6467 - accuracy: 0.6784\n",
            "Epoch 13/150\n",
            "77/77 [==============================] - 0s 3ms/step - loss: 0.6277 - accuracy: 0.6797\n",
            "Epoch 14/150\n",
            "77/77 [==============================] - 0s 3ms/step - loss: 0.6370 - accuracy: 0.6693\n",
            "Epoch 15/150\n",
            "77/77 [==============================] - 0s 3ms/step - loss: 0.6173 - accuracy: 0.6836\n",
            "Epoch 16/150\n",
            "77/77 [==============================] - 0s 3ms/step - loss: 0.6411 - accuracy: 0.6615\n",
            "Epoch 17/150\n",
            "77/77 [==============================] - 0s 3ms/step - loss: 0.6248 - accuracy: 0.6680\n",
            "Epoch 18/150\n",
            "77/77 [==============================] - 0s 3ms/step - loss: 0.5898 - accuracy: 0.6966\n",
            "Epoch 19/150\n",
            "77/77 [==============================] - 0s 3ms/step - loss: 0.6070 - accuracy: 0.6823\n",
            "Epoch 20/150\n",
            "77/77 [==============================] - 0s 4ms/step - loss: 0.5989 - accuracy: 0.6836\n",
            "Epoch 21/150\n",
            "77/77 [==============================] - 0s 3ms/step - loss: 0.5774 - accuracy: 0.7057\n",
            "Epoch 22/150\n",
            "77/77 [==============================] - 0s 5ms/step - loss: 0.5952 - accuracy: 0.6823\n",
            "Epoch 23/150\n",
            "77/77 [==============================] - 0s 5ms/step - loss: 0.5941 - accuracy: 0.6875\n",
            "Epoch 24/150\n",
            "77/77 [==============================] - 0s 4ms/step - loss: 0.5926 - accuracy: 0.7031\n",
            "Epoch 25/150\n",
            "77/77 [==============================] - 0s 4ms/step - loss: 0.5645 - accuracy: 0.7018\n",
            "Epoch 26/150\n",
            "77/77 [==============================] - 0s 4ms/step - loss: 0.5789 - accuracy: 0.7018\n",
            "Epoch 27/150\n",
            "77/77 [==============================] - 0s 5ms/step - loss: 0.5709 - accuracy: 0.7279\n",
            "Epoch 28/150\n",
            "77/77 [==============================] - 0s 4ms/step - loss: 0.5689 - accuracy: 0.7057\n",
            "Epoch 29/150\n",
            "77/77 [==============================] - 0s 5ms/step - loss: 0.5645 - accuracy: 0.7292\n",
            "Epoch 30/150\n",
            "77/77 [==============================] - 0s 3ms/step - loss: 0.5581 - accuracy: 0.7227\n",
            "Epoch 31/150\n",
            "77/77 [==============================] - 0s 3ms/step - loss: 0.5480 - accuracy: 0.7240\n",
            "Epoch 32/150\n",
            "77/77 [==============================] - 0s 3ms/step - loss: 0.5646 - accuracy: 0.7174\n",
            "Epoch 33/150\n",
            "77/77 [==============================] - 0s 3ms/step - loss: 0.5452 - accuracy: 0.7279\n",
            "Epoch 34/150\n",
            "77/77 [==============================] - 0s 3ms/step - loss: 0.5480 - accuracy: 0.7214\n",
            "Epoch 35/150\n",
            "77/77 [==============================] - 0s 3ms/step - loss: 0.5530 - accuracy: 0.7135\n",
            "Epoch 36/150\n",
            "77/77 [==============================] - 0s 3ms/step - loss: 0.5656 - accuracy: 0.7083\n",
            "Epoch 37/150\n",
            "77/77 [==============================] - 0s 3ms/step - loss: 0.5398 - accuracy: 0.7318\n",
            "Epoch 38/150\n",
            "77/77 [==============================] - 0s 3ms/step - loss: 0.5637 - accuracy: 0.7122\n",
            "Epoch 39/150\n",
            "77/77 [==============================] - 0s 3ms/step - loss: 0.5404 - accuracy: 0.7344\n",
            "Epoch 40/150\n",
            "77/77 [==============================] - 0s 3ms/step - loss: 0.5436 - accuracy: 0.7279\n",
            "Epoch 41/150\n",
            "77/77 [==============================] - 0s 3ms/step - loss: 0.5653 - accuracy: 0.7161\n",
            "Epoch 42/150\n",
            "77/77 [==============================] - 0s 3ms/step - loss: 0.5386 - accuracy: 0.7253\n",
            "Epoch 43/150\n",
            "77/77 [==============================] - 0s 3ms/step - loss: 0.5238 - accuracy: 0.7461\n",
            "Epoch 44/150\n",
            "77/77 [==============================] - 0s 3ms/step - loss: 0.5332 - accuracy: 0.7461\n",
            "Epoch 45/150\n",
            "77/77 [==============================] - 0s 3ms/step - loss: 0.5431 - accuracy: 0.7318\n",
            "Epoch 46/150\n",
            "77/77 [==============================] - 0s 3ms/step - loss: 0.5338 - accuracy: 0.7435\n",
            "Epoch 47/150\n",
            "77/77 [==============================] - 0s 3ms/step - loss: 0.5245 - accuracy: 0.7331\n",
            "Epoch 48/150\n",
            "77/77 [==============================] - 0s 3ms/step - loss: 0.5297 - accuracy: 0.7344\n",
            "Epoch 49/150\n",
            "77/77 [==============================] - 0s 3ms/step - loss: 0.5379 - accuracy: 0.7357\n",
            "Epoch 50/150\n",
            "77/77 [==============================] - 0s 3ms/step - loss: 0.5176 - accuracy: 0.7396\n",
            "Epoch 51/150\n",
            "77/77 [==============================] - 0s 3ms/step - loss: 0.5275 - accuracy: 0.7370\n",
            "Epoch 52/150\n",
            "77/77 [==============================] - 0s 3ms/step - loss: 0.5253 - accuracy: 0.7318\n",
            "Epoch 53/150\n",
            "77/77 [==============================] - 0s 3ms/step - loss: 0.5439 - accuracy: 0.7240\n",
            "Epoch 54/150\n",
            "77/77 [==============================] - 0s 3ms/step - loss: 0.5251 - accuracy: 0.7357\n",
            "Epoch 55/150\n",
            "77/77 [==============================] - 0s 3ms/step - loss: 0.5204 - accuracy: 0.7331\n",
            "Epoch 56/150\n",
            "77/77 [==============================] - 0s 3ms/step - loss: 0.5304 - accuracy: 0.7357\n",
            "Epoch 57/150\n",
            "77/77 [==============================] - 0s 3ms/step - loss: 0.5049 - accuracy: 0.7578\n",
            "Epoch 58/150\n",
            "77/77 [==============================] - 0s 3ms/step - loss: 0.5130 - accuracy: 0.7513\n",
            "Epoch 59/150\n",
            "77/77 [==============================] - 0s 3ms/step - loss: 0.5184 - accuracy: 0.7331\n",
            "Epoch 60/150\n",
            "77/77 [==============================] - 0s 3ms/step - loss: 0.5192 - accuracy: 0.7448\n",
            "Epoch 61/150\n",
            "77/77 [==============================] - 0s 3ms/step - loss: 0.5195 - accuracy: 0.7474\n",
            "Epoch 62/150\n",
            "77/77 [==============================] - 0s 3ms/step - loss: 0.5143 - accuracy: 0.7448\n",
            "Epoch 63/150\n",
            "77/77 [==============================] - 0s 3ms/step - loss: 0.5076 - accuracy: 0.7357\n",
            "Epoch 64/150\n",
            "77/77 [==============================] - 0s 3ms/step - loss: 0.5072 - accuracy: 0.7487\n",
            "Epoch 65/150\n",
            "77/77 [==============================] - 0s 3ms/step - loss: 0.5101 - accuracy: 0.7422\n",
            "Epoch 66/150\n",
            "77/77 [==============================] - 0s 3ms/step - loss: 0.4975 - accuracy: 0.7500\n",
            "Epoch 67/150\n",
            "77/77 [==============================] - 0s 3ms/step - loss: 0.5130 - accuracy: 0.7461\n",
            "Epoch 68/150\n",
            "77/77 [==============================] - 0s 3ms/step - loss: 0.5072 - accuracy: 0.7500\n",
            "Epoch 69/150\n",
            "77/77 [==============================] - 0s 3ms/step - loss: 0.5033 - accuracy: 0.7552\n",
            "Epoch 70/150\n",
            "77/77 [==============================] - 0s 4ms/step - loss: 0.5060 - accuracy: 0.7461\n",
            "Epoch 71/150\n",
            "77/77 [==============================] - 0s 5ms/step - loss: 0.4958 - accuracy: 0.7539\n",
            "Epoch 72/150\n",
            "77/77 [==============================] - 0s 4ms/step - loss: 0.5578 - accuracy: 0.7096\n",
            "Epoch 73/150\n",
            "77/77 [==============================] - 0s 4ms/step - loss: 0.4916 - accuracy: 0.7656\n",
            "Epoch 74/150\n",
            "77/77 [==============================] - 0s 5ms/step - loss: 0.4944 - accuracy: 0.7539\n",
            "Epoch 75/150\n",
            "77/77 [==============================] - 0s 5ms/step - loss: 0.5229 - accuracy: 0.7409\n",
            "Epoch 76/150\n",
            "77/77 [==============================] - 0s 4ms/step - loss: 0.4990 - accuracy: 0.7578\n",
            "Epoch 77/150\n",
            "77/77 [==============================] - 0s 5ms/step - loss: 0.5143 - accuracy: 0.7409\n",
            "Epoch 78/150\n",
            "77/77 [==============================] - 0s 4ms/step - loss: 0.4979 - accuracy: 0.7656\n",
            "Epoch 79/150\n",
            "77/77 [==============================] - 0s 4ms/step - loss: 0.5152 - accuracy: 0.7474\n",
            "Epoch 80/150\n",
            "77/77 [==============================] - 0s 3ms/step - loss: 0.4951 - accuracy: 0.7487\n",
            "Epoch 81/150\n",
            "77/77 [==============================] - 0s 3ms/step - loss: 0.4965 - accuracy: 0.7734\n",
            "Epoch 82/150\n",
            "77/77 [==============================] - 0s 3ms/step - loss: 0.4923 - accuracy: 0.7487\n",
            "Epoch 83/150\n",
            "77/77 [==============================] - 0s 3ms/step - loss: 0.5019 - accuracy: 0.7617\n",
            "Epoch 84/150\n",
            "77/77 [==============================] - 0s 3ms/step - loss: 0.5058 - accuracy: 0.7565\n",
            "Epoch 85/150\n",
            "77/77 [==============================] - 0s 3ms/step - loss: 0.5076 - accuracy: 0.7539\n",
            "Epoch 86/150\n",
            "77/77 [==============================] - 0s 3ms/step - loss: 0.4795 - accuracy: 0.7669\n",
            "Epoch 87/150\n",
            "77/77 [==============================] - 0s 3ms/step - loss: 0.4888 - accuracy: 0.7643\n",
            "Epoch 88/150\n",
            "77/77 [==============================] - 0s 3ms/step - loss: 0.4866 - accuracy: 0.7604\n",
            "Epoch 89/150\n",
            "77/77 [==============================] - 0s 3ms/step - loss: 0.4797 - accuracy: 0.7630\n",
            "Epoch 90/150\n",
            "77/77 [==============================] - 0s 3ms/step - loss: 0.5064 - accuracy: 0.7682\n",
            "Epoch 91/150\n",
            "77/77 [==============================] - 0s 3ms/step - loss: 0.5007 - accuracy: 0.7461\n",
            "Epoch 92/150\n",
            "77/77 [==============================] - 0s 3ms/step - loss: 0.4858 - accuracy: 0.7630\n",
            "Epoch 93/150\n",
            "77/77 [==============================] - 0s 3ms/step - loss: 0.4894 - accuracy: 0.7604\n",
            "Epoch 94/150\n",
            "77/77 [==============================] - 0s 3ms/step - loss: 0.4953 - accuracy: 0.7526\n",
            "Epoch 95/150\n",
            "77/77 [==============================] - 0s 3ms/step - loss: 0.5146 - accuracy: 0.7487\n",
            "Epoch 96/150\n",
            "77/77 [==============================] - 0s 3ms/step - loss: 0.4857 - accuracy: 0.7747\n",
            "Epoch 97/150\n",
            "77/77 [==============================] - 0s 3ms/step - loss: 0.4860 - accuracy: 0.7747\n",
            "Epoch 98/150\n",
            "77/77 [==============================] - 0s 3ms/step - loss: 0.4804 - accuracy: 0.7656\n",
            "Epoch 99/150\n",
            "77/77 [==============================] - 0s 3ms/step - loss: 0.5116 - accuracy: 0.7539\n",
            "Epoch 100/150\n",
            "77/77 [==============================] - 0s 3ms/step - loss: 0.4820 - accuracy: 0.7539\n",
            "Epoch 101/150\n",
            "77/77 [==============================] - 0s 3ms/step - loss: 0.4802 - accuracy: 0.7669\n",
            "Epoch 102/150\n",
            "77/77 [==============================] - 0s 3ms/step - loss: 0.4809 - accuracy: 0.7591\n",
            "Epoch 103/150\n",
            "77/77 [==============================] - 0s 3ms/step - loss: 0.4801 - accuracy: 0.7695\n",
            "Epoch 104/150\n",
            "77/77 [==============================] - 0s 3ms/step - loss: 0.4913 - accuracy: 0.7656\n",
            "Epoch 105/150\n",
            "77/77 [==============================] - 0s 3ms/step - loss: 0.4798 - accuracy: 0.7656\n",
            "Epoch 106/150\n",
            "77/77 [==============================] - 0s 3ms/step - loss: 0.4755 - accuracy: 0.7760\n",
            "Epoch 107/150\n",
            "77/77 [==============================] - 0s 3ms/step - loss: 0.4817 - accuracy: 0.7552\n",
            "Epoch 108/150\n",
            "77/77 [==============================] - 0s 3ms/step - loss: 0.4961 - accuracy: 0.7604\n",
            "Epoch 109/150\n",
            "77/77 [==============================] - 0s 3ms/step - loss: 0.4839 - accuracy: 0.7695\n",
            "Epoch 110/150\n",
            "77/77 [==============================] - 0s 3ms/step - loss: 0.5017 - accuracy: 0.7500\n",
            "Epoch 111/150\n",
            "77/77 [==============================] - 0s 3ms/step - loss: 0.4856 - accuracy: 0.7734\n",
            "Epoch 112/150\n",
            "77/77 [==============================] - 0s 3ms/step - loss: 0.4969 - accuracy: 0.7656\n",
            "Epoch 113/150\n",
            "77/77 [==============================] - 0s 3ms/step - loss: 0.4951 - accuracy: 0.7461\n",
            "Epoch 114/150\n",
            "77/77 [==============================] - 0s 3ms/step - loss: 0.4844 - accuracy: 0.7604\n",
            "Epoch 115/150\n",
            "77/77 [==============================] - 0s 3ms/step - loss: 0.4853 - accuracy: 0.7643\n",
            "Epoch 116/150\n",
            "77/77 [==============================] - 0s 3ms/step - loss: 0.4767 - accuracy: 0.7669\n",
            "Epoch 117/150\n",
            "77/77 [==============================] - 0s 3ms/step - loss: 0.4964 - accuracy: 0.7669\n",
            "Epoch 118/150\n",
            "77/77 [==============================] - 0s 4ms/step - loss: 0.4691 - accuracy: 0.7682\n",
            "Epoch 119/150\n",
            "77/77 [==============================] - 0s 4ms/step - loss: 0.4894 - accuracy: 0.7591\n",
            "Epoch 120/150\n",
            "77/77 [==============================] - 0s 5ms/step - loss: 0.4775 - accuracy: 0.7656\n",
            "Epoch 121/150\n",
            "77/77 [==============================] - 0s 4ms/step - loss: 0.4678 - accuracy: 0.7695\n",
            "Epoch 122/150\n",
            "77/77 [==============================] - 0s 5ms/step - loss: 0.4751 - accuracy: 0.7630\n",
            "Epoch 123/150\n",
            "77/77 [==============================] - 0s 5ms/step - loss: 0.4734 - accuracy: 0.7669\n",
            "Epoch 124/150\n",
            "77/77 [==============================] - 0s 4ms/step - loss: 0.4759 - accuracy: 0.7630\n",
            "Epoch 125/150\n",
            "77/77 [==============================] - 0s 4ms/step - loss: 0.4714 - accuracy: 0.7695\n",
            "Epoch 126/150\n",
            "77/77 [==============================] - 0s 5ms/step - loss: 0.4741 - accuracy: 0.7708\n",
            "Epoch 127/150\n",
            "77/77 [==============================] - 0s 3ms/step - loss: 0.4721 - accuracy: 0.7708\n",
            "Epoch 128/150\n",
            "77/77 [==============================] - 0s 3ms/step - loss: 0.4745 - accuracy: 0.7721\n",
            "Epoch 129/150\n",
            "77/77 [==============================] - 0s 3ms/step - loss: 0.4793 - accuracy: 0.7591\n",
            "Epoch 130/150\n",
            "77/77 [==============================] - 0s 4ms/step - loss: 0.4863 - accuracy: 0.7682\n",
            "Epoch 131/150\n",
            "77/77 [==============================] - 0s 3ms/step - loss: 0.4887 - accuracy: 0.7591\n",
            "Epoch 132/150\n",
            "77/77 [==============================] - 0s 3ms/step - loss: 0.4743 - accuracy: 0.7760\n",
            "Epoch 133/150\n",
            "77/77 [==============================] - 0s 4ms/step - loss: 0.4679 - accuracy: 0.7734\n",
            "Epoch 134/150\n",
            "77/77 [==============================] - 0s 3ms/step - loss: 0.4791 - accuracy: 0.7708\n",
            "Epoch 135/150\n",
            "77/77 [==============================] - 0s 3ms/step - loss: 0.4640 - accuracy: 0.7734\n",
            "Epoch 136/150\n",
            "77/77 [==============================] - 0s 3ms/step - loss: 0.4910 - accuracy: 0.7435\n",
            "Epoch 137/150\n",
            "77/77 [==============================] - 0s 3ms/step - loss: 0.4668 - accuracy: 0.7773\n",
            "Epoch 138/150\n",
            "77/77 [==============================] - 0s 3ms/step - loss: 0.4609 - accuracy: 0.7812\n",
            "Epoch 139/150\n",
            "77/77 [==============================] - 0s 3ms/step - loss: 0.4728 - accuracy: 0.7734\n",
            "Epoch 140/150\n",
            "77/77 [==============================] - 0s 3ms/step - loss: 0.4669 - accuracy: 0.7812\n",
            "Epoch 141/150\n",
            "77/77 [==============================] - 0s 3ms/step - loss: 0.4770 - accuracy: 0.7826\n",
            "Epoch 142/150\n",
            "77/77 [==============================] - 0s 3ms/step - loss: 0.4659 - accuracy: 0.7865\n",
            "Epoch 143/150\n",
            "77/77 [==============================] - 0s 3ms/step - loss: 0.4616 - accuracy: 0.7734\n",
            "Epoch 144/150\n",
            "77/77 [==============================] - 0s 3ms/step - loss: 0.4845 - accuracy: 0.7591\n",
            "Epoch 145/150\n",
            "77/77 [==============================] - 0s 3ms/step - loss: 0.4677 - accuracy: 0.7682\n",
            "Epoch 146/150\n",
            "77/77 [==============================] - 0s 3ms/step - loss: 0.4654 - accuracy: 0.7721\n",
            "Epoch 147/150\n",
            "77/77 [==============================] - 0s 3ms/step - loss: 0.4547 - accuracy: 0.7878\n",
            "Epoch 148/150\n",
            "77/77 [==============================] - 0s 3ms/step - loss: 0.4606 - accuracy: 0.7708\n",
            "Epoch 149/150\n",
            "77/77 [==============================] - 0s 3ms/step - loss: 0.4589 - accuracy: 0.7839\n",
            "Epoch 150/150\n",
            "77/77 [==============================] - 0s 3ms/step - loss: 0.4821 - accuracy: 0.7630\n"
          ]
        },
        {
          "output_type": "execute_result",
          "data": {
            "text/plain": [
              "<keras.src.callbacks.History at 0x7a3759287fd0>"
            ]
          },
          "metadata": {},
          "execution_count": 14
        }
      ]
    },
    {
      "cell_type": "markdown",
      "source": [
        "Evaluating the Keras model"
      ],
      "metadata": {
        "id": "CMh4f4CrOl47"
      }
    },
    {
      "cell_type": "code",
      "source": [
        "_, accuracy = model.evaluate(X, y)\n",
        "print('Accuracy: %.2f' % (accuracy*100))"
      ],
      "metadata": {
        "colab": {
          "base_uri": "https://localhost:8080/"
        },
        "id": "N8Wst9DqOkRw",
        "outputId": "b91f1cec-7048-4a4c-878e-735efa964e16"
      },
      "execution_count": 16,
      "outputs": [
        {
          "output_type": "stream",
          "name": "stdout",
          "text": [
            "24/24 [==============================] - 0s 2ms/step - loss: 0.4483 - accuracy: 0.7891\n",
            "Accuracy: 78.91\n"
          ]
        }
      ]
    },
    {
      "cell_type": "markdown",
      "source": [
        "Predictions of the trained model"
      ],
      "metadata": {
        "id": "TYhVHKfgRzsx"
      }
    },
    {
      "cell_type": "code",
      "source": [
        "# make probability predictions with the model\n",
        "predictions = model.predict(X)\n",
        "# round predictions\n",
        "rounded = [round(x[0]) for x in predictions]"
      ],
      "metadata": {
        "colab": {
          "base_uri": "https://localhost:8080/"
        },
        "id": "2M9kDTVgR1Hx",
        "outputId": "b6d1bf15-2514-4355-c649-57b74ebd7554"
      },
      "execution_count": 17,
      "outputs": [
        {
          "output_type": "stream",
          "name": "stdout",
          "text": [
            "24/24 [==============================] - 0s 1ms/step\n"
          ]
        }
      ]
    },
    {
      "cell_type": "code",
      "source": [
        "# make probability predictions with the model\n",
        "predictions = model.predict(X)\n",
        "# round predictions\n",
        "rounded = [round(x[0]) for x in predictions]"
      ],
      "metadata": {
        "colab": {
          "base_uri": "https://localhost:8080/"
        },
        "id": "L0IcNmXzR8dU",
        "outputId": "b1a91a1f-d05d-4e08-83c7-dd23d0816ca8"
      },
      "execution_count": 18,
      "outputs": [
        {
          "output_type": "stream",
          "name": "stdout",
          "text": [
            "24/24 [==============================] - 0s 1ms/step\n"
          ]
        }
      ]
    }
  ]
}